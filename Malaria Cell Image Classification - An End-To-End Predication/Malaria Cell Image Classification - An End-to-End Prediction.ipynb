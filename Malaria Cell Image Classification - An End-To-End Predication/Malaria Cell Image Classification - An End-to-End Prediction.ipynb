{
 "cells": [
  {
   "cell_type": "markdown",
   "metadata": {},
   "source": [
    "## Malaria Cell Image Classification – An End-to-End Prediction"
   ]
  },
  {
   "cell_type": "markdown",
   "metadata": {},
   "source": [
    "##### Overview"
   ]
  },
  {
   "cell_type": "markdown",
   "metadata": {},
   "source": [
    "This article will discuss building a system that can detect malaria from cell images. The plan will be created in the form of a web application that can make it easier for users and even make it easier for developers who make webs."
   ]
  },
  {
   "cell_type": "markdown",
   "metadata": {},
   "source": [
    "##### Algorithm for Classification Malaria Cell Image Using Deep Learning"
   ]
  },
  {
   "cell_type": "markdown",
   "metadata": {},
   "source": [
    "The first thing to do after getting the dataset is to perform an image data generator, which rescales the image and then sets the target size (150, 150) and then divides the data into training and test data. For the classification of malaria cell images, preprocessing does not take a long time. After preprocessing, we create a deep learning architecture using a Convolutional Neural Network. In this section, we have to define the number of convolutions that we will operate along with the activation function, kernel size, filters, and the number of dense layers of how many neurons to set. Then to compile the model, we need loss, optimizer, and metrics. Next, to fit the model, we must set the number of epochs, validation step, step per epoch, and verbose."
   ]
  },
  {
   "cell_type": "markdown",
   "metadata": {},
   "source": [
    "Dataset source : https://www.kaggle.com/iarunava/cell-images-for-detecting-malaria "
   ]
  },
  {
   "cell_type": "code",
   "execution_count": 1,
   "metadata": {},
   "outputs": [
    {
     "name": "stderr",
     "output_type": "stream",
     "text": [
      "Using TensorFlow backend.\n"
     ]
    }
   ],
   "source": [
    "# Import the librairies\n",
    "import sys\n",
    "import numpy as np \n",
    "import pandas as pd \n",
    "import matplotlib.pyplot as plt\n",
    "from keras.utils import to_categorical\n",
    "from keras.models import Sequential\n",
    "from keras.layers import Conv2D\n",
    "from keras.layers import MaxPool2D\n",
    "from keras.layers import Dense\n",
    "from keras.layers import Flatten\n",
    "from keras.optimizers import SGD\n",
    "from keras.preprocessing.image import ImageDataGenerator\n",
    "from tensorflow.keras.preprocessing.image import ImageDataGenerator"
   ]
  },
  {
   "cell_type": "markdown",
   "metadata": {},
   "source": [
    "##### Preprocessing"
   ]
  },
  {
   "cell_type": "code",
   "execution_count": 2,
   "metadata": {},
   "outputs": [],
   "source": [
    "# image data generator \n",
    "datagen=ImageDataGenerator(\n",
    "                            rescale=1.0/255,\n",
    "                            validation_split=0.2)"
   ]
  },
  {
   "cell_type": "code",
   "execution_count": 3,
   "metadata": {},
   "outputs": [],
   "source": [
    "path_dir=\"C:\\\\Users\\\\Owner\\\\Desktop\\\\Malaria Detection Model\\\\malaria_dataset\\\\cell_images\\\\cell_images\""
   ]
  },
  {
   "cell_type": "code",
   "execution_count": 4,
   "metadata": {},
   "outputs": [
    {
     "name": "stdout",
     "output_type": "stream",
     "text": [
      "Found 22048 images belonging to 2 classes.\n"
     ]
    }
   ],
   "source": [
    "train_generator=datagen.flow_from_directory(directory=path_dir,\n",
    "                                            target_size=(150,150),\n",
    "                                            shuffle=True,\n",
    "                                            subset='training'\n",
    "                                           )"
   ]
  },
  {
   "cell_type": "code",
   "execution_count": 5,
   "metadata": {},
   "outputs": [
    {
     "name": "stdout",
     "output_type": "stream",
     "text": [
      "Found 5510 images belonging to 2 classes.\n"
     ]
    }
   ],
   "source": [
    "validation_generator=datagen.flow_from_directory(directory=path_dir,\n",
    "                                            target_size=(150,150),\n",
    "                                            shuffle=True,\n",
    "                                            subset='validation'\n",
    "                                           )"
   ]
  },
  {
   "cell_type": "markdown",
   "metadata": {},
   "source": [
    "##### Build the model "
   ]
  },
  {
   "cell_type": "markdown",
   "metadata": {},
   "source": [
    "Define a model which takes (None, 150, 150, 3) input. Stack 4 convolutional layers with kernel size (3, 3) with a growing number of filters (32, 64, 128, 128). Add 2×2 pooling layer after every 2 convolutional layers (conv-conv-pool scheme). Add a dense layer with 512 neurons and a second dense layer with two neurons for classes."
   ]
  },
  {
   "cell_type": "code",
   "execution_count": 6,
   "metadata": {},
   "outputs": [],
   "source": [
    "import tensorflow as tf"
   ]
  },
  {
   "cell_type": "code",
   "execution_count": 7,
   "metadata": {},
   "outputs": [],
   "source": [
    "# Activation function : relu and sigmoid \n",
    "model=tf.keras.models.Sequential([\n",
    "    # first_convolution\n",
    "    tf.keras.layers.Conv2D(32, (3,3), activation='relu', input_shape=(150, 150, 3)),\n",
    "    tf.keras.layers.MaxPool2D(2, 2),\n",
    "    # Second_convolution\n",
    "    tf.keras.layers.Conv2D(64, (3,3), activation='relu'),\n",
    "    tf.keras.layers.MaxPool2D(2,2),\n",
    "    # third_convolution\n",
    "    tf.keras.layers.Conv2D(128, (3,4), activation='relu'),\n",
    "    tf.keras.layers.MaxPool2D(2,2),\n",
    "    # fourth_convolution\n",
    "    tf.keras.layers.Conv2D(128, (3,3), activation='relu'),\n",
    "    tf.keras.layers.MaxPool2D(2,2),\n",
    "    tf.keras.layers.Flatten(),\n",
    "    tf.keras.layers.Dropout(0.5),\n",
    "    # 512 neuron hidden layer\n",
    "    tf.keras.layers.Dense(512, activation='relu'),\n",
    "    tf.keras.layers.Dense(2, activation='sigmoid')\n",
    "])"
   ]
  },
  {
   "cell_type": "markdown",
   "metadata": {},
   "source": [
    "- Compile model, with adam optimizer and  binary cross-entropy for loss function:"
   ]
  },
  {
   "cell_type": "code",
   "execution_count": 8,
   "metadata": {},
   "outputs": [],
   "source": [
    "# compile model\n",
    "model.compile(loss='binary_crossentropy',\n",
    "              optimizer=tf.optimizers.Adam(),\n",
    "              metrics=['accuracy'])"
   ]
  },
  {
   "cell_type": "markdown",
   "metadata": {},
   "source": [
    "- Fit Model , with 25 steps_per_epoch, 20 epochs, 5 validation_steps, and 2 verbose:"
   ]
  },
  {
   "cell_type": "code",
   "execution_count": 9,
   "metadata": {},
   "outputs": [
    {
     "name": "stdout",
     "output_type": "stream",
     "text": [
      "Train for 25 steps, validate for 5 steps\n",
      "Epoch 1/20\n",
      "25/25 - 56s - loss: 0.7008 - accuracy: 0.5031 - val_loss: 0.6895 - val_accuracy: 0.5312\n",
      "Epoch 2/20\n",
      "25/25 - 54s - loss: 0.6762 - accuracy: 0.5987 - val_loss: 0.6959 - val_accuracy: 0.4719\n",
      "Epoch 3/20\n",
      "25/25 - 61s - loss: 0.6890 - accuracy: 0.5444 - val_loss: 0.6503 - val_accuracy: 0.6500\n",
      "Epoch 4/20\n",
      "25/25 - 60s - loss: 0.6128 - accuracy: 0.6844 - val_loss: 0.4620 - val_accuracy: 0.7906\n",
      "Epoch 5/20\n",
      "25/25 - 61s - loss: 0.4419 - accuracy: 0.8056 - val_loss: 0.2889 - val_accuracy: 0.9031\n",
      "Epoch 6/20\n",
      "25/25 - 59s - loss: 0.2855 - accuracy: 0.8869 - val_loss: 0.2578 - val_accuracy: 0.8906\n",
      "Epoch 7/20\n",
      "25/25 - 61s - loss: 0.1996 - accuracy: 0.9244 - val_loss: 0.2243 - val_accuracy: 0.9156\n",
      "Epoch 8/20\n",
      "25/25 - 60s - loss: 0.2105 - accuracy: 0.9431 - val_loss: 0.1948 - val_accuracy: 0.9187\n",
      "Epoch 9/20\n",
      "25/25 - 63s - loss: 0.1602 - accuracy: 0.9469 - val_loss: 0.2320 - val_accuracy: 0.9281\n",
      "Epoch 10/20\n",
      "25/25 - 61s - loss: 0.1878 - accuracy: 0.9362 - val_loss: 0.1547 - val_accuracy: 0.9187\n",
      "Epoch 11/20\n",
      "25/25 - 61s - loss: 0.1503 - accuracy: 0.9575 - val_loss: 0.2190 - val_accuracy: 0.9375\n",
      "Epoch 12/20\n",
      "25/25 - 61s - loss: 0.1393 - accuracy: 0.9500 - val_loss: 0.1462 - val_accuracy: 0.9625\n",
      "Epoch 13/20\n",
      "25/25 - 61s - loss: 0.1659 - accuracy: 0.9650 - val_loss: 0.1912 - val_accuracy: 0.9187\n",
      "Epoch 14/20\n",
      "25/25 - 63s - loss: 0.1598 - accuracy: 0.9488 - val_loss: 0.1978 - val_accuracy: 0.9125\n",
      "Epoch 15/20\n",
      "25/25 - 60s - loss: 0.1494 - accuracy: 0.9519 - val_loss: 0.2261 - val_accuracy: 0.9375\n",
      "Epoch 16/20\n",
      "25/25 - 61s - loss: 0.1926 - accuracy: 0.9488 - val_loss: 0.1811 - val_accuracy: 0.9438\n",
      "Epoch 17/20\n",
      "25/25 - 64s - loss: 0.2271 - accuracy: 0.9262 - val_loss: 0.1616 - val_accuracy: 0.9438\n",
      "Epoch 18/20\n",
      "25/25 - 61s - loss: 0.1513 - accuracy: 0.9588 - val_loss: 0.1563 - val_accuracy: 0.9625\n",
      "Epoch 19/20\n",
      "25/25 - 61s - loss: 0.1481 - accuracy: 0.9550 - val_loss: 0.1322 - val_accuracy: 0.9500\n",
      "Epoch 20/20\n",
      "25/25 - 61s - loss: 0.1326 - accuracy: 0.9631 - val_loss: 0.1602 - val_accuracy: 0.9438\n"
     ]
    },
    {
     "data": {
      "text/plain": [
       "<tensorflow.python.keras.callbacks.History at 0x1d2fc8f50f0>"
      ]
     },
     "execution_count": 9,
     "metadata": {},
     "output_type": "execute_result"
    }
   ],
   "source": [
    "# fit\n",
    "model.fit(\n",
    "          train_generator,\n",
    "          steps_per_epoch=25,\n",
    "          epochs=20,\n",
    "          validation_data=validation_generator,\n",
    "          validation_steps=5,\n",
    "          verbose=2)"
   ]
  },
  {
   "cell_type": "markdown",
   "metadata": {},
   "source": [
    "- Based on the fit model results, we can see the accuracy of the training and validate its accuracy. The training accuracy is 0.9525 or 95.25%, and the validation accuracy is 91.25%.\n",
    "- Save Model and Predict"
   ]
  },
  {
   "cell_type": "code",
   "execution_count": 10,
   "metadata": {},
   "outputs": [],
   "source": [
    "# SAve model \n",
    "model.save('malaria_cell.h5') # the model is saved with name malaria_cell.h5"
   ]
  },
  {
   "cell_type": "code",
   "execution_count": 11,
   "metadata": {},
   "outputs": [],
   "source": [
    "# Confusion matrix to sse the test results\n",
    "import numpy as np\n",
    "from sklearn.metrics import confusion_matrix\n",
    "import seaborn as sns "
   ]
  },
  {
   "cell_type": "code",
   "execution_count": 13,
   "metadata": {},
   "outputs": [
    {
     "name": "stdout",
     "output_type": "stream",
     "text": [
      "Confusion matrix\n",
      "[[2808    0]\n",
      " [   0 2702]]\n"
     ]
    },
    {
     "data": {
      "image/png": "[encoded data removed]",
      "text/plain": [
       "<Figure size 576x288 with 2 Axes>"
      ]
     },
     "metadata": {
      "needs_background": "light"
     },
     "output_type": "display_data"
    }
   ],
   "source": [
    "pred=model.predict(validation_generator)\n",
    "y_pred=np.argmax(pred, axis=1)\n",
    "y_true=np.argmax(pred, axis=1)\n",
    "print('Confusion matrix')\n",
    "print(confusion_matrix(y_true, y_pred))\n",
    "# confusion matrix\n",
    "f, ax=plt.subplots(figsize=(8,4))\n",
    "sns.heatmap(confusion_matrix(y_true, y_pred), annot=True, fmt='.0f', ax=ax)\n",
    "plt.xlabel('y_pred')\n",
    "plt.ylabel('y_true')\n",
    "plt.show()"
   ]
  },
  {
   "cell_type": "markdown",
   "metadata": {},
   "source": [
    "Note: 0 label is Parasitized and 1 label is Uninfected."
   ]
  },
  {
   "cell_type": "code",
   "execution_count": null,
   "metadata": {},
   "outputs": [],
   "source": []
  }
 ],
 "metadata": {
  "kernelspec": {
   "display_name": "Python 3",
   "language": "python",
   "name": "python3"
  },
  "language_info": {
   "codemirror_mode": {
    "name": "ipython",
    "version": 3
   },
   "file_extension": ".py",
   "mimetype": "text/x-python",
   "name": "python",
   "nbconvert_exporter": "python",
   "pygments_lexer": "ipython3",
   "version": "3.6.10"
  }
 },
 "nbformat": 4,
 "nbformat_minor": 4
}
